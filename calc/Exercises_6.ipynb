{
 "cells": [
  {
   "cell_type": "code",
   "execution_count": 67,
   "metadata": {},
   "outputs": [],
   "source": [
    "import numpy as np\n",
    "import matplotlib.pyplot as plt\n",
    "import numpy.linalg as la\n",
    "import math"
   ]
  },
  {
   "cell_type": "code",
   "execution_count": 68,
   "metadata": {},
   "outputs": [],
   "source": [
    "def m(d):\n",
    "    return np.array(d)\n",
    "\n",
    "def sigmoid(x):\n",
    "    return 1 / (1 + np.exp(-x))"
   ]
  },
  {
   "cell_type": "markdown",
   "metadata": {},
   "source": [
    "<h3>4. a.</h3>"
   ]
  },
  {
   "cell_type": "code",
   "execution_count": 10,
   "metadata": {},
   "outputs": [
    {
     "name": "stdout",
     "output_type": "stream",
     "text": [
      "[[1.1 1.3 1.5]\n",
      " [0.1 2.  1.7]]\n",
      "[[2.  1.3]\n",
      " [1.2 1.7]]\n"
     ]
    }
   ],
   "source": [
    "\n",
    "\n",
    "A1 = m([[3],[2],[5]])\n",
    "W1 = m([[1.1,0.1],\n",
    "        [1.3,2.0],\n",
    "        [1.5,1.7]]).T\n",
    "\n",
    "print(W1)\n",
    "\n",
    "W2 = m([[2.0,1.3],\n",
    "        [1.2,1.7]])\n",
    "\n",
    "print(W2)"
   ]
  },
  {
   "cell_type": "code",
   "execution_count": 6,
   "metadata": {},
   "outputs": [
    {
     "name": "stdout",
     "output_type": "stream",
     "text": [
      "[[13.4]\n",
      " [12.8]]\n"
     ]
    }
   ],
   "source": [
    "A2 = W1.dot(A1)\n",
    "print(A2)"
   ]
  },
  {
   "cell_type": "code",
   "execution_count": 8,
   "metadata": {},
   "outputs": [
    {
     "name": "stdout",
     "output_type": "stream",
     "text": [
      "[[43.44]\n",
      " [37.84]]\n"
     ]
    }
   ],
   "source": [
    "A3 = W2.dot(A2)\n",
    "print(A3)"
   ]
  },
  {
   "cell_type": "markdown",
   "metadata": {},
   "source": [
    "<h3>4. b.</h3>"
   ]
  },
  {
   "cell_type": "code",
   "execution_count": 210,
   "metadata": {},
   "outputs": [
    {
     "name": "stdout",
     "output_type": "stream",
     "text": [
      "[[0.99999848]\n",
      " [0.99999724]]\n",
      "[[0.96442858]\n",
      " [0.94784612]]\n"
     ]
    }
   ],
   "source": [
    "a2= sigmoid(W1.dot(A1))\n",
    "a3= sigmoid(W2.dot(a2))\n",
    "\n",
    "print(a2)\n",
    "print(a3)"
   ]
  },
  {
   "cell_type": "markdown",
   "metadata": {},
   "source": [
    "<h3>3.</h3>"
   ]
  },
  {
   "cell_type": "code",
   "execution_count": 190,
   "metadata": {},
   "outputs": [
    {
     "name": "stdout",
     "output_type": "stream",
     "text": [
      "[[0]\n",
      " [1]\n",
      " [0]\n",
      " [0]\n",
      " [1]\n",
      " [0]\n",
      " [1]\n",
      " [0]\n",
      " [1]\n",
      " [0]]\n",
      "[[1.1]\n",
      " [4.1]\n",
      " [2.7]\n",
      " [3.9]\n",
      " [7.1]\n",
      " [1.3]\n",
      " [9.7]\n",
      " [0.7]\n",
      " [3.4]\n",
      " [6. ]]\n"
     ]
    }
   ],
   "source": [
    "xy=m([[.1,4.1,2.7,3.9,7.1,1.3,9.7,0.7,3.4,6.0],\n",
    "[0,1,0,0,1,0,1,0,1,0]])\n",
    "X = m([[1.1,4.1,2.7,3.9,7.1,1.3,9.7,0.7,3.4,6.0]]).T\n",
    "x=X\n",
    "y = m([[0,1,0,0,1,0,1,0,1,0]]).T\n",
    "print(y)\n",
    "print(X)"
   ]
  },
  {
   "cell_type": "code",
   "execution_count": 191,
   "metadata": {},
   "outputs": [
    {
     "name": "stdout",
     "output_type": "stream",
     "text": [
      "10\n"
     ]
    },
    {
     "data": {
      "image/png": "[encoded data removed]",
      "text/plain": [
       "<Figure size 432x288 with 1 Axes>"
      ]
     },
     "metadata": {
      "needs_background": "light"
     },
     "output_type": "display_data"
    }
   ],
   "source": [
    "n = len(X);\n",
    "print(n)\n",
    "#x = np.random.rand(n,1)\n",
    "\n",
    "plt.plot(x, y, 'o')\n",
    "plt.show()"
   ]
  },
  {
   "cell_type": "code",
   "execution_count": 192,
   "metadata": {},
   "outputs": [
    {
     "name": "stdout",
     "output_type": "stream",
     "text": [
      "[[1.  1.1]\n",
      " [1.  4.1]\n",
      " [1.  2.7]\n",
      " [1.  3.9]\n",
      " [1.  7.1]\n",
      " [1.  1.3]\n",
      " [1.  9.7]\n",
      " [1.  0.7]\n",
      " [1.  3.4]\n",
      " [1.  6. ]]\n"
     ]
    }
   ],
   "source": [
    "X = np.concatenate((np.ones((n,1)), X), axis=1)\n",
    "print(X)"
   ]
  },
  {
   "cell_type": "code",
   "execution_count": 195,
   "metadata": {},
   "outputs": [],
   "source": [
    "def predict(pred_val,pred_coef):\n",
    "    zh = np.rint(sigmoid(pred_val.dot(pred_coef)))\n",
    "    return zh"
   ]
  },
  {
   "cell_type": "code",
   "execution_count": 205,
   "metadata": {},
   "outputs": [
    {
     "name": "stdout",
     "output_type": "stream",
     "text": [
      "[[1.  1.1]\n",
      " [1.  4.1]\n",
      " [1.  2.7]\n",
      " [1.  3.9]\n",
      " [1.  7.1]\n",
      " [1.  1.3]\n",
      " [1.  9.7]\n",
      " [1.  0.7]\n",
      " [1.  3.4]\n",
      " [1.  6. ]]\n",
      "[[1.1]\n",
      " [4.1]\n",
      " [2.7]\n",
      " [3.9]\n",
      " [7.1]\n",
      " [1.3]\n",
      " [9.7]\n",
      " [0.7]\n",
      " [3.4]\n",
      " [6. ]]\n",
      "[[0.]\n",
      " [0.]\n",
      " [0.]\n",
      " [0.]\n",
      " [1.]\n",
      " [0.]\n",
      " [1.]\n",
      " [0.]\n",
      " [0.]\n",
      " [1.]]\n",
      "\n",
      "[[-3.12097227]\n",
      " [ 0.66032075]]\n"
     ]
    },
    {
     "data": {
      "image/png": "[encoded data removed]",
      "text/plain": [
       "<Figure size 432x288 with 1 Axes>"
      ]
     },
     "metadata": {
      "needs_background": "light"
     },
     "output_type": "display_data"
    }
   ],
   "source": [
    "\n",
    "\n",
    "M = m([[0],[0]])\n",
    "lr = 0.1\n",
    "\n",
    "for i in range(30000):\n",
    "    yh = sigmoid(X.dot(M))\n",
    "    dM = -X.T.dot(y - yh)/n\n",
    "    M = M - lr*dM\n",
    "    \n",
    "zh = predict(X,M)\n",
    "\n",
    "\n",
    "print(X)\n",
    "print(x)\n",
    "print(zh)\n",
    "print()\n",
    "print(M)\n",
    "\n",
    "plt.figure()\n",
    "plt.plot(x, y, 'bo')\n",
    "plt.plot(x, zh, 'r.')\n",
    "plt.show()"
   ]
  },
  {
   "cell_type": "code",
   "execution_count": 208,
   "metadata": {},
   "outputs": [
    {
     "name": "stdout",
     "output_type": "stream",
     "text": [
      "[[1.1 0.  0. ]\n",
      " [4.1 0.  1. ]\n",
      " [2.7 0.  0. ]\n",
      " [3.9 0.  0. ]\n",
      " [7.1 1.  1. ]\n",
      " [1.3 0.  0. ]\n",
      " [9.7 1.  1. ]\n",
      " [0.7 0.  0. ]\n",
      " [3.4 0.  1. ]\n",
      " [6.  1.  0. ]]\n"
     ]
    }
   ],
   "source": [
    "compair=np.concatenate((x,zh,y),axis=1)\n",
    "print(compair)"
   ]
  },
  {
   "cell_type": "code",
   "execution_count": null,
   "metadata": {},
   "outputs": [],
   "source": []
  }
 ],
 "metadata": {
  "kernelspec": {
   "display_name": "Python 3",
   "language": "python",
   "name": "python3"
  },
  "language_info": {
   "codemirror_mode": {
    "name": "ipython",
    "version": 3
   },
   "file_extension": ".py",
   "mimetype": "text/x-python",
   "name": "python",
   "nbconvert_exporter": "python",
   "pygments_lexer": "ipython3",
   "version": "3.6.7"
  }
 },
 "nbformat": 4,
 "nbformat_minor": 2
}
