{
 "cells": [
  {
   "cell_type": "code",
   "execution_count": 1,
   "metadata": {},
   "outputs": [],
   "source": [
    "import numpy as np\n",
    "import matplotlib.pyplot as plt\n",
    "import numpy.linalg as la\n",
    "import math"
   ]
  },
  {
   "cell_type": "code",
   "execution_count": 21,
   "metadata": {},
   "outputs": [],
   "source": [
    "def m(d):\n",
    "    return np.array(d)\n",
    "\n",
    "def sigmoid(x):\n",
    "    return 1 / (1 + np.exp(-x))"
   ]
  },
  {
   "cell_type": "code",
   "execution_count": 10,
   "metadata": {},
   "outputs": [
    {
     "name": "stdout",
     "output_type": "stream",
     "text": [
      "[[1.1 1.3 1.5]\n",
      " [0.1 2.  1.7]]\n",
      "[[2.  1.3]\n",
      " [1.2 1.7]]\n"
     ]
    }
   ],
   "source": [
    "A1 = m([[3],[2],[5]])\n",
    "W1 = m([[1.1,0.1],\n",
    "        [1.3,2.0],\n",
    "        [1.5,1.7]]).T\n",
    "\n",
    "print(W1)\n",
    "\n",
    "W2 = m([[2.0,1.3],\n",
    "        [1.2,1.7]])\n",
    "\n",
    "print(W2)"
   ]
  },
  {
   "cell_type": "code",
   "execution_count": 6,
   "metadata": {},
   "outputs": [
    {
     "name": "stdout",
     "output_type": "stream",
     "text": [
      "[[13.4]\n",
      " [12.8]]\n"
     ]
    }
   ],
   "source": [
    "A2 = W1.dot(A1)\n",
    "print(A2)"
   ]
  },
  {
   "cell_type": "code",
   "execution_count": 8,
   "metadata": {},
   "outputs": [
    {
     "name": "stdout",
     "output_type": "stream",
     "text": [
      "[[43.44]\n",
      " [37.84]]\n"
     ]
    }
   ],
   "source": [
    "A3 = W2.dot(A2)\n",
    "print(A3)"
   ]
  },
  {
   "cell_type": "code",
   "execution_count": 18,
   "metadata": {},
   "outputs": [
    {
     "name": "stdout",
     "output_type": "stream",
     "text": [
      "[[0.99999848]\n",
      " [0.99999724]]\n",
      "[[1.]\n",
      " [1.]]\n"
     ]
    }
   ],
   "source": [
    "print(sigmoid(A2))\n",
    "print(sigmoid(A3))"
   ]
  },
  {
   "cell_type": "code",
   "execution_count": 55,
   "metadata": {},
   "outputs": [
    {
     "name": "stdout",
     "output_type": "stream",
     "text": [
      "[[0 1 0 0 1 0 1 0 1 0]]\n",
      "[[1.1 4.1 2.7 3.9 7.1 1.3 9.7 0.7 3.4 6. ]]\n"
     ]
    }
   ],
   "source": [
    "xy=m([[.1,4.1,2.7,3.9,7.1,1.3,9.7,0.7,3.4,6.0],\n",
    "[0,1,0,0,1,0,1,0,1,0]])\n",
    "X = m([[1.1,4.1,2.7,3.9,7.1,1.3,9.7,0.7,3.4,6.0]])\n",
    "y = m([[0,1,0,0,1,0,1,0,1,0]])\n",
    "print(y)\n",
    "print(X)"
   ]
  },
  {
   "cell_type": "code",
   "execution_count": 64,
   "metadata": {},
   "outputs": [],
   "source": []
  },
  {
   "cell_type": "code",
   "execution_count": null,
   "metadata": {},
   "outputs": [],
   "source": []
  }
 ],
 "metadata": {
  "kernelspec": {
   "display_name": "Python 3",
   "language": "python",
   "name": "python3"
  },
  "language_info": {
   "codemirror_mode": {
    "name": "ipython",
    "version": 3
   },
   "file_extension": ".py",
   "mimetype": "text/x-python",
   "name": "python",
   "nbconvert_exporter": "python",
   "pygments_lexer": "ipython3",
   "version": "3.6.7"
  }
 },
 "nbformat": 4,
 "nbformat_minor": 2
}
