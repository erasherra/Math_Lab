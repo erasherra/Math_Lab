{
 "cells": [
  {
   "cell_type": "code",
   "execution_count": 2,
   "metadata": {},
   "outputs": [],
   "source": [
    "import numpy as np\n",
    "import matplotlib.pyplot as plt\n",
    "import numpy.linalg as la"
   ]
  },
  {
   "cell_type": "markdown",
   "metadata": {},
   "source": [
    "<h3>1.</h3>"
   ]
  },
  {
   "cell_type": "code",
   "execution_count": 12,
   "metadata": {},
   "outputs": [],
   "source": [
    "data = np.loadtxt('fish.txt', skiprows=37)\n",
    "x = data[:, 1:3]\n",
    "y = data[:, 3:]\n",
    "\n"
   ]
  },
  {
   "cell_type": "code",
   "execution_count": 19,
   "metadata": {},
   "outputs": [],
   "source": [
    "X = np.concatenate((np.ones((44,1)),x),axis=1)\n"
   ]
  },
  {
   "cell_type": "code",
   "execution_count": 32,
   "metadata": {},
   "outputs": [],
   "source": [
    "def F(A,T,M):\n",
    "    return M[0,0] + M[1,0]*A + M[2,0]*T "
   ]
  },
  {
   "cell_type": "code",
   "execution_count": 16,
   "metadata": {},
   "outputs": [
    {
     "name": "stdout",
     "output_type": "stream",
     "text": [
      "[[3904.26601675]\n",
      " [  26.24068177]\n",
      " [-106.41363636]]\n"
     ]
    }
   ],
   "source": [
    "M = la.inv(X.T.dot(X)).dot(X.T).dot(y)\n",
    "print(M)"
   ]
  },
  {
   "cell_type": "code",
   "execution_count": 47,
   "metadata": {},
   "outputs": [
    {
     "name": "stdout",
     "output_type": "stream",
     "text": [
      "20212.41049980864\n",
      "MEA is: 449.16467777352534\n"
     ]
    }
   ],
   "source": [
    "f = 0\n",
    "for i in range(len(X)):\n",
    "    \n",
    "    f = f + (np.abs((F(X[i,1],X[i,2],M)) - y[i,0]))\n",
    "print(f)    \n",
    "print(\"MEA is:\",f/(len(X)+1))"
   ]
  }
 ],
 "metadata": {
  "kernelspec": {
   "display_name": "Python 3",
   "language": "python",
   "name": "python3"
  },
  "language_info": {
   "codemirror_mode": {
    "name": "ipython",
    "version": 3
   },
   "file_extension": ".py",
   "mimetype": "text/x-python",
   "name": "python",
   "nbconvert_exporter": "python",
   "pygments_lexer": "ipython3",
   "version": "3.6.7"
  }
 },
 "nbformat": 4,
 "nbformat_minor": 2
}
