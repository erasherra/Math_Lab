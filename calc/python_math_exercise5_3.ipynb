{
 "cells": [
  {
   "cell_type": "code",
   "execution_count": 1,
   "metadata": {},
   "outputs": [],
   "source": [
    "import numpy as np\n",
    "import matplotlib.pyplot as plt\n",
    "import numpy.linalg as la"
   ]
  },
  {
   "cell_type": "code",
   "execution_count": 57,
   "metadata": {},
   "outputs": [],
   "source": [
    "lr = 0.01"
   ]
  },
  {
   "cell_type": "code",
   "execution_count": 58,
   "metadata": {},
   "outputs": [],
   "source": [
    "def calculate(x):\n",
    "    a=x-lr*(4*np.power(x,3)+15*np.power(x,2)-7)\n",
    "    return a"
   ]
  },
  {
   "cell_type": "code",
   "execution_count": 59,
   "metadata": {},
   "outputs": [
    {
     "name": "stdout",
     "output_type": "stream",
     "text": [
      "0.07\n"
     ]
    }
   ],
   "source": [
    "print(calculate(0))"
   ]
  },
  {
   "cell_type": "code",
   "execution_count": 62,
   "metadata": {},
   "outputs": [],
   "source": [
    "def iterate(s):\n",
    "    a = s\n",
    "    for i in range(30):\n",
    "        a = calculate(a)\n",
    "        print(a)\n",
    "    return a"
   ]
  },
  {
   "cell_type": "code",
   "execution_count": 63,
   "metadata": {},
   "outputs": [
    {
     "name": "stdout",
     "output_type": "stream",
     "text": [
      "0.07\n",
      "0.13925128\n",
      "0.20623463374121148\n",
      "0.269503856286536\n",
      "0.32782601929809135\n",
      "0.38029627729235815\n",
      "0.4264024706172533\n",
      "0.46602848660089213\n",
      "0.4994025738426288\n",
      "0.5270100356067021\n",
      "0.5494942371743247\n",
      "0.5675659919843643\n",
      "0.5819330911484802\n",
      "0.5932533973658477\n",
      "0.6021091466614429\n",
      "0.6089973971843874\n",
      "0.6143311773974713\n",
      "0.6184467459200279\n",
      "0.6216136384459544\n",
      "0.624045363313471\n",
      "0.6259095262721551\n",
      "0.6273367948934641\n",
      "0.6284285044425612\n",
      "0.6292629273071918\n",
      "0.6299003367972625\n",
      "0.6303870376608102\n",
      "0.630758539916426\n",
      "0.6310420383092632\n",
      "0.6312583378565894\n",
      "0.6314233425883268\n"
     ]
    },
    {
     "data": {
      "text/plain": [
       "0.6314233425883268"
      ]
     },
     "execution_count": 63,
     "metadata": {},
     "output_type": "execute_result"
    }
   ],
   "source": [
    "iterate(0)"
   ]
  },
  {
   "cell_type": "code",
   "execution_count": 64,
   "metadata": {},
   "outputs": [
    {
     "name": "stdout",
     "output_type": "stream",
     "text": [
      "-2.21\n",
      "-2.44086056\n",
      "-2.682844212540118\n",
      "-2.920084897678343\n",
      "-3.133148882012386\n",
      "-3.3053646501833462\n",
      "-3.4296780430795795\n",
      "-3.5103919772100913\n",
      "-3.5584981437299517\n",
      "-3.5854969671993024\n",
      "-3.6000896151028896\n",
      "-3.6078070277412633\n",
      "-3.611839921314813\n",
      "-3.6139339925016762\n",
      "-3.615017699016603\n",
      "-3.6155775531434573\n",
      "-3.6158665185219574\n",
      "-3.616015596659138\n",
      "-3.616092487994269\n",
      "-3.6161321419778094\n",
      "-3.616152590803583\n",
      "-3.616163135535797\n",
      "-3.616168572986393\n",
      "-3.6161713768137638\n",
      "-3.6161728226038647\n",
      "-3.61617356812199\n",
      "-3.6161739525461223\n",
      "-3.616174150773122\n",
      "-3.6161742529881695\n",
      "-3.616174305694986\n"
     ]
    },
    {
     "data": {
      "text/plain": [
       "-3.616174305694986"
      ]
     },
     "execution_count": 64,
     "metadata": {},
     "output_type": "execute_result"
    }
   ],
   "source": [
    "iterate(-2)"
   ]
  },
  {
   "cell_type": "code",
   "execution_count": null,
   "metadata": {},
   "outputs": [],
   "source": []
  }
 ],
 "metadata": {
  "kernelspec": {
   "display_name": "Python 3",
   "language": "python",
   "name": "python3"
  },
  "language_info": {
   "codemirror_mode": {
    "name": "ipython",
    "version": 3
   },
   "file_extension": ".py",
   "mimetype": "text/x-python",
   "name": "python",
   "nbconvert_exporter": "python",
   "pygments_lexer": "ipython3",
   "version": "3.6.7"
  }
 },
 "nbformat": 4,
 "nbformat_minor": 2
}
