{
 "cells": [
  {
   "cell_type": "code",
   "execution_count": 739,
   "metadata": {},
   "outputs": [],
   "source": [
    "import numpy as np\n",
    "import matplotlib.pyplot as plt\n",
    "import pandas as pd\n",
    "from pandas import read_csv\n",
    "from matplotlib import cm"
   ]
  },
  {
   "cell_type": "code",
   "execution_count": 740,
   "metadata": {
    "scrolled": true
   },
   "outputs": [],
   "source": [
    "url = r'kd.csv'\n",
    "dataframe = pd.read_csv(url, \n",
    "                        sep = ',', \n",
    "                        header = 0, \n",
    "                        index_col = None,\n",
    "                        na_values = '?')\n",
    "\n",
    "\n",
    "#dataframe.columns = titles.columns\n",
    "\n",
    "\n",
    "affected = dataframe[(dataframe.clas.ne('notckd'))]\n",
    "stats = affected.describe()"
   ]
  },
  {
   "cell_type": "code",
   "execution_count": 741,
   "metadata": {
    "scrolled": true
   },
   "outputs": [
    {
     "name": "stdout",
     "output_type": "stream",
     "text": [
      "              age          bp          sg          al          su         bgr  \\\n",
      "count  242.000000  240.000000  208.000000  209.000000  206.000000  212.000000   \n",
      "mean    54.541322   79.625000    1.013918    1.722488    0.766990  175.419811   \n",
      "std     17.388899   15.234053    0.004627    1.372645    1.348559   92.082223   \n",
      "min      2.000000   50.000000    1.005000    0.000000    0.000000   22.000000   \n",
      "25%     47.000000   70.000000    1.010000    0.000000    0.000000  106.750000   \n",
      "50%     59.000000   80.000000    1.015000    2.000000    0.000000  143.500000   \n",
      "75%     66.000000   90.000000    1.015000    3.000000    1.000000  219.250000   \n",
      "max     90.000000  180.000000    1.025000    5.000000    5.000000  490.000000   \n",
      "\n",
      "               bu          sc         sod         pot        hemo  \n",
      "count  237.000000  238.000000  168.000000  167.000000  204.000000  \n",
      "mean    72.389030    4.414916  133.901786    4.878443   10.647549  \n",
      "std     58.587236    6.950275   12.402827    4.321550    2.185790  \n",
      "min      1.500000    0.500000    4.500000    2.500000    3.100000  \n",
      "25%     32.000000    1.425000  132.000000    3.850000    9.475000  \n",
      "50%     53.000000    2.250000  136.000000    4.300000   10.900000  \n",
      "75%     93.000000    4.550000  139.000000    4.900000   12.025000  \n",
      "max    391.000000   76.000000  163.000000   47.000000   16.100000  \n",
      "      age     bp     sg   al   su       rbc        pc         pcc          ba  \\\n",
      "0    48.0   80.0  1.020  1.0  0.0       NaN    normal  notpresent  notpresent   \n",
      "1     7.0   50.0  1.020  4.0  0.0       NaN    normal  notpresent  notpresent   \n",
      "2    62.0   80.0  1.010  2.0  3.0    normal    normal  notpresent  notpresent   \n",
      "3    48.0   70.0  1.005  4.0  0.0    normal  abnormal     present  notpresent   \n",
      "4    51.0   80.0  1.010  2.0  0.0    normal    normal  notpresent  notpresent   \n",
      "5    60.0   90.0  1.015  3.0  0.0       NaN       NaN  notpresent  notpresent   \n",
      "6    68.0   70.0  1.010  0.0  0.0       NaN    normal  notpresent  notpresent   \n",
      "7    24.0    NaN  1.015  2.0  4.0    normal  abnormal  notpresent  notpresent   \n",
      "8    52.0  100.0  1.015  3.0  0.0    normal  abnormal     present  notpresent   \n",
      "9    53.0   90.0  1.020  2.0  0.0  abnormal  abnormal     present  notpresent   \n",
      "10   50.0   60.0  1.010  2.0  4.0       NaN  abnormal     present  notpresent   \n",
      "11   63.0   70.0  1.010  3.0  0.0  abnormal  abnormal     present  notpresent   \n",
      "12   68.0   70.0  1.015  3.0  1.0       NaN    normal     present  notpresent   \n",
      "13   68.0   70.0    NaN  NaN  NaN       NaN       NaN  notpresent  notpresent   \n",
      "14   68.0   80.0  1.010  3.0  2.0    normal  abnormal     present     present   \n",
      "15   40.0   80.0  1.015  3.0  0.0       NaN    normal  notpresent  notpresent   \n",
      "16   47.0   70.0  1.015  2.0  0.0       NaN    normal  notpresent  notpresent   \n",
      "17   47.0   80.0    NaN  NaN  NaN       NaN       NaN  notpresent  notpresent   \n",
      "18   60.0  100.0  1.025  0.0  3.0       NaN    normal  notpresent  notpresent   \n",
      "19   62.0   60.0  1.015  1.0  0.0       NaN  abnormal     present  notpresent   \n",
      "20   61.0   80.0  1.015  2.0  0.0  abnormal  abnormal  notpresent  notpresent   \n",
      "21   60.0   90.0    NaN  NaN  NaN       NaN       NaN  notpresent  notpresent   \n",
      "22   48.0   80.0  1.025  4.0  0.0    normal  abnormal  notpresent  notpresent   \n",
      "23   21.0   70.0  1.010  0.0  0.0       NaN    normal  notpresent  notpresent   \n",
      "24   42.0  100.0  1.015  4.0  0.0    normal  abnormal  notpresent     present   \n",
      "25   61.0   60.0  1.025  0.0  0.0       NaN    normal  notpresent  notpresent   \n",
      "26   75.0   80.0  1.015  0.0  0.0       NaN    normal  notpresent  notpresent   \n",
      "27   69.0   70.0  1.010  3.0  4.0    normal  abnormal  notpresent  notpresent   \n",
      "28   75.0   70.0    NaN  1.0  3.0       NaN       NaN  notpresent  notpresent   \n",
      "29   68.0   70.0  1.005  1.0  0.0  abnormal  abnormal     present  notpresent   \n",
      "..    ...    ...    ...  ...  ...       ...       ...         ...         ...   \n",
      "220  36.0   80.0  1.010  0.0  0.0       NaN    normal  notpresent  notpresent   \n",
      "221  66.0   70.0  1.020  1.0  0.0    normal       NaN  notpresent  notpresent   \n",
      "222  74.0   60.0    NaN  NaN  NaN       NaN       NaN  notpresent  notpresent   \n",
      "223  71.0   90.0  1.010  0.0  3.0       NaN    normal  notpresent  notpresent   \n",
      "224  34.0   60.0  1.020  0.0  0.0       NaN    normal  notpresent  notpresent   \n",
      "225  60.0   90.0  1.010  3.0  5.0  abnormal    normal  notpresent     present   \n",
      "226  64.0  100.0  1.015  4.0  2.0  abnormal  abnormal  notpresent     present   \n",
      "227  57.0   80.0  1.015  0.0  0.0       NaN    normal  notpresent  notpresent   \n",
      "228  60.0   70.0    NaN  NaN  NaN       NaN       NaN  notpresent  notpresent   \n",
      "229  59.0   50.0  1.010  3.0  0.0    normal  abnormal  notpresent  notpresent   \n",
      "230  65.0   60.0  1.010  2.0  0.0    normal  abnormal     present  notpresent   \n",
      "231  60.0   90.0    NaN  NaN  NaN       NaN       NaN  notpresent  notpresent   \n",
      "232  50.0   90.0  1.015  1.0  0.0  abnormal  abnormal  notpresent  notpresent   \n",
      "233  51.0  100.0  1.015  2.0  0.0    normal    normal  notpresent     present   \n",
      "234  37.0  100.0  1.010  0.0  0.0  abnormal    normal  notpresent  notpresent   \n",
      "235  45.0   70.0  1.010  2.0  0.0       NaN    normal  notpresent  notpresent   \n",
      "236  65.0   80.0    NaN  NaN  NaN       NaN       NaN  notpresent  notpresent   \n",
      "237  80.0   70.0  1.015  2.0  2.0       NaN    normal  notpresent  notpresent   \n",
      "238  72.0  100.0    NaN  NaN  NaN       NaN       NaN  notpresent  notpresent   \n",
      "239  34.0   90.0  1.015  2.0  0.0    normal    normal  notpresent  notpresent   \n",
      "240  65.0   70.0  1.015  1.0  0.0       NaN    normal  notpresent  notpresent   \n",
      "241  57.0   70.0  1.015  1.0  0.0       NaN  abnormal  notpresent  notpresent   \n",
      "242  69.0   70.0  1.010  4.0  3.0    normal  abnormal     present     present   \n",
      "243  62.0   90.0  1.020  2.0  1.0       NaN    normal  notpresent  notpresent   \n",
      "244  64.0   90.0  1.015  3.0  2.0       NaN  abnormal     present  notpresent   \n",
      "245  48.0  100.0    NaN  NaN  NaN       NaN       NaN  notpresent  notpresent   \n",
      "246  48.0  110.0  1.015  3.0  0.0  abnormal    normal     present  notpresent   \n",
      "247  54.0   90.0  1.025  1.0  0.0    normal  abnormal  notpresent  notpresent   \n",
      "248  59.0   70.0  1.010  1.0  3.0  abnormal  abnormal  notpresent  notpresent   \n",
      "249  56.0   90.0  1.010  4.0  1.0    normal  abnormal     present  notpresent   \n",
      "\n",
      "       bgr  ...    pcv   wbcc  rbcc  htn   dm  cad appet   pe  ane   clas  \n",
      "0    121.0  ...     44   7800   5.2  yes  yes   no  good   no   no    ckd  \n",
      "1      NaN  ...     38   6000   NaN   no   no   no  good   no   no    ckd  \n",
      "2    423.0  ...     31   7500   NaN   no  yes   no  poor   no  yes    ckd  \n",
      "3    117.0  ...     32   6700   3.9  yes   no   no  poor  yes  yes    ckd  \n",
      "4    106.0  ...     35   7300   4.6   no   no   no  good   no   no    ckd  \n",
      "5     74.0  ...     39   7800   4.4  yes  yes   no  good  yes   no    ckd  \n",
      "6    100.0  ...     36    NaN   NaN   no   no   no  good   no   no    ckd  \n",
      "7    410.0  ...     44   6900     5   no  yes   no  good  yes   no    ckd  \n",
      "8    138.0  ...     33   9600   4.0  yes  yes   no  good   no  yes    ckd  \n",
      "9     70.0  ...     29  12100   3.7  yes  yes   no  poor   no  yes    ckd  \n",
      "10   490.0  ...     28    NaN   NaN  yes  yes   no  good   no  yes    ckd  \n",
      "11   380.0  ...     32   4500   3.8  yes  yes   no  poor  yes   no    ckd  \n",
      "12   208.0  ...     28  12200   3.4  yes  yes  yes  poor  yes   no    ckd  \n",
      "13    98.0  ...    NaN    NaN   NaN  yes  yes  yes  poor  yes   no    ckd  \n",
      "14   157.0  ...     16  11000   2.6  yes  yes  yes  poor  yes   no    ckd  \n",
      "15    76.0  ...     24   3800   2.8  yes   no   no  good   no  yes    ckd  \n",
      "16    99.0  ...    NaN    NaN   NaN   no   no   no  good   no   no    ckd  \n",
      "17   114.0  ...    NaN    NaN   NaN  yes   no   no  poor   no   no    ckd  \n",
      "18   263.0  ...     37  11400   4.3  yes  yes  yes  good   no   no    ckd  \n",
      "19   100.0  ...     30   5300   3.7  yes   no  yes  good   no   no    ckd  \n",
      "20   173.0  ...     24   9200   3.2  yes  yes  yes  poor  yes  yes    ckd  \n",
      "21     NaN  ...     32   6200   3.6  yes  yes  yes  good   no   no    ckd  \n",
      "22    95.0  ...     32   6900   3.4  yes   no   no  good   no  yes    ckd  \n",
      "23     NaN  ...    NaN    NaN   NaN   no   no   no  poor   no  yes    ckd  \n",
      "24     NaN  ...     39   8300   4.6  yes   no   no  poor   no   no    ckd  \n",
      "25   108.0  ...     29   8400   3.7  yes  yes   no  good   no  yes    ckd  \n",
      "26   156.0  ...     35  10300     4  yes  yes   no  poor   no   no    ckd  \n",
      "27   264.0  ...     37   9600   4.1  yes  yes  yes  good  yes   no    ckd  \n",
      "28   123.0  ...    NaN    NaN   NaN   no  yes   no  good   no   no    ckd  \n",
      "29     NaN  ...     38    NaN   NaN   no   no  yes  good   no   no    ckd  \n",
      "..     ...  ...    ...    ...   ...  ...  ...  ...   ...  ...  ...    ...  \n",
      "220  103.0  ...     36   8800   NaN   no   no   no  good   no   no    ckd  \n",
      "221  248.0  ...    NaN    NaN   NaN  yes  yes   no  good   no   no    ckd  \n",
      "222  108.0  ...    NaN    NaN   NaN  yes  yes   no  good   no   no    ckd  \n",
      "223  303.0  ...     38   9200   4.6  yes  yes   no  good   no   no    ckd  \n",
      "224  117.0  ...    NaN    NaN   NaN   no   no   no  good  yes   no    ckd  \n",
      "225  490.0  ...     35  12000   4.5  yes  yes   no  good   no   no    ckd  \n",
      "226  163.0  ...     26   7500   3.4  yes  yes   no  good  yes   no    ckd  \n",
      "227  120.0  ...     36   7200   3.8  yes  yes   no  good   no   no    ckd  \n",
      "228  124.0  ...    NaN    NaN   NaN  yes   no   no  good   no   no    ckd  \n",
      "229  241.0  ...     31  15700   3.8   no  yes   no  good  yes   no    ckd  \n",
      "230  192.0  ...    NaN   9500   NaN  yes  yes   no  poor   no   no  ckd\\t  \n",
      "231  269.0  ...     35    NaN   NaN  yes  yes  yes  good  yes   no    ckd  \n",
      "232    NaN  ...    NaN    NaN   NaN   no   no   no  good  yes   no    ckd  \n",
      "233   93.0  ...    NaN    NaN   NaN   no   no   no  poor   no   no    ckd  \n",
      "234    NaN  ...     44   4100   5.2  yes   no   no  good   no   no    ckd  \n",
      "235  113.0  ...     26   5700   NaN   no   no  yes  good   no  yes    ckd  \n",
      "236   74.0  ...     25    NaN   NaN  yes  yes  yes  good  yes   no    ckd  \n",
      "237  141.0  ...     40   9600   NaN  yes  yes   no  poor  yes   no    ckd  \n",
      "238  201.0  ...     28    NaN   NaN  yes  yes   no  good   no  yes    ckd  \n",
      "239  104.0  ...     39    NaN   NaN   no   no   no  good   no   no    ckd  \n",
      "240  203.0  ...     36   5000   4.1  yes  yes   no  poor  yes   no    ckd  \n",
      "241  165.0  ...     31   4200   3.9   no   no   no  good   no   no    ckd  \n",
      "242  214.0  ...     28  11500   3.3  yes  yes  yes  good  yes  yes    ckd  \n",
      "243  169.0  ...     47  11000   6.1  yes   no   no  good   no   no    ckd  \n",
      "244  463.0  ...     40   9800   4.6  yes  yes   no  good   no  yes    ckd  \n",
      "245  103.0  ...     19   7200   2.6  yes   no  yes  poor   no   no    ckd  \n",
      "246  106.0  ...     26   5000   2.5  yes   no  yes  good   no  yes    ckd  \n",
      "247  150.0  ...    NaN    NaN   NaN   no   no   no  poor  yes  yes    ckd  \n",
      "248  424.0  ...     37  10200   4.1  yes  yes  yes  good   no   no    ckd  \n",
      "249  176.0  ...      9   5400   2.1  yes  yes   no  poor  yes  yes    ckd  \n",
      "\n",
      "[250 rows x 25 columns]\n"
     ]
    }
   ],
   "source": [
    "print(stats)\n",
    "print(affected)"
   ]
  },
  {
   "cell_type": "code",
   "execution_count": null,
   "metadata": {
    "scrolled": false
   },
   "outputs": [],
   "source": [
    "\n"
   ]
  },
  {
   "cell_type": "code",
   "execution_count": null,
   "metadata": {
    "scrolled": true
   },
   "outputs": [],
   "source": [
    "\n"
   ]
  },
  {
   "cell_type": "code",
   "execution_count": null,
   "metadata": {
    "scrolled": true
   },
   "outputs": [],
   "source": []
  },
  {
   "cell_type": "code",
   "execution_count": 742,
   "metadata": {
    "scrolled": true
   },
   "outputs": [
    {
     "data": {
      "image/png": "[encoded data removed]",
      "text/plain": [
       "<Figure size 432x288 with 2 Axes>"
      ]
     },
     "metadata": {
      "needs_background": "light"
     },
     "output_type": "display_data"
    }
   ],
   "source": [
    "correlations = affected.corr()\n",
    "# plot correlation matrix\n",
    "fig = plt.figure()\n",
    "ax = fig.add_subplot(111)\n",
    "cax = ax.matshow(correlations, vmin=-1, vmax=1,cmap=cm.coolwarm)\n",
    "fig.colorbar(cax)\n",
    "ticks = np.arange(0,11,1)\n",
    "ax.set_xticks(ticks)\n",
    "ax.set_yticks(ticks)\n",
    "ax.set_xticklabels(correlations.columns.values)\n",
    "ax.set_yticklabels(correlations.columns.values)\n",
    "plt.show()"
   ]
  },
  {
   "cell_type": "code",
   "execution_count": 743,
   "metadata": {},
   "outputs": [
    {
     "name": "stdout",
     "output_type": "stream",
     "text": [
      "           age        bp        sg        al        su       bgr        bu  \\\n",
      "age   1.000000  0.139914 -0.051072 -0.019526  0.202558  0.157971  0.128488   \n",
      "bp    0.139914  1.000000  0.006266 -0.036475  0.144743  0.044731  0.103476   \n",
      "sg   -0.051072  0.006266  1.000000 -0.016263 -0.081830 -0.078618 -0.075402   \n",
      "al   -0.019526 -0.036475 -0.016263  1.000000  0.074083  0.135627  0.313240   \n",
      "su    0.202558  0.144743 -0.081830  0.074083  1.000000  0.676076  0.047734   \n",
      "bgr   0.157971  0.044731 -0.078618  0.135627  0.676076  1.000000 -0.032205   \n",
      "bu    0.128488  0.103476 -0.075402  0.313240  0.047734 -0.032205  1.000000   \n",
      "sc    0.077511  0.068781 -0.132552  0.214068  0.099910 -0.052915  0.542641   \n",
      "sod  -0.024347  0.023079  0.128031 -0.218883  0.098796 -0.084598 -0.189845   \n",
      "pot   0.057800  0.059091 -0.012715  0.094635  0.202382  0.029099  0.367642   \n",
      "hemo -0.079249 -0.152088  0.079148 -0.299217  0.105882  0.104109 -0.567667   \n",
      "\n",
      "            sc       sod       pot      hemo  \n",
      "age   0.077511 -0.024347  0.057800 -0.079249  \n",
      "bp    0.068781  0.023079  0.059091 -0.152088  \n",
      "sg   -0.132552  0.128031 -0.012715  0.079148  \n",
      "al    0.214068 -0.218883  0.094635 -0.299217  \n",
      "su    0.099910  0.098796  0.202382  0.105882  \n",
      "bgr  -0.052915 -0.084598  0.029099  0.104109  \n",
      "bu    0.542641 -0.189845  0.367642 -0.567667  \n",
      "sc    1.000000 -0.677810  0.330187 -0.276875  \n",
      "sod  -0.677810  1.000000  0.185020  0.125149  \n",
      "pot   0.330187  0.185020  1.000000 -0.159390  \n",
      "hemo -0.276875  0.125149 -0.159390  1.000000  \n"
     ]
    }
   ],
   "source": [
    "print(affected.corr())"
   ]
  },
  {
   "cell_type": "code",
   "execution_count": null,
   "metadata": {},
   "outputs": [],
   "source": []
  }
 ],
 "metadata": {
  "kernelspec": {
   "display_name": "Python 3",
   "language": "python",
   "name": "python3"
  },
  "language_info": {
   "codemirror_mode": {
    "name": "ipython",
    "version": 3
   },
   "file_extension": ".py",
   "mimetype": "text/x-python",
   "name": "python",
   "nbconvert_exporter": "python",
   "pygments_lexer": "ipython3",
   "version": "3.7.1"
  }
 },
 "nbformat": 4,
 "nbformat_minor": 2
}
