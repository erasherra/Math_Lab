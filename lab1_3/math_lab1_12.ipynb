{
 "cells": [
  {
   "cell_type": "code",
   "execution_count": 11,
   "metadata": {},
   "outputs": [],
   "source": [
    "import pandas as pd\n",
    "\n",
    "\n",
    "d = {'Weight':[92,70,58,99,55,76,62,92,71,70,77,79],\n",
    "     'Exercise':[6,6,6,2,8,4,6,6,5,6,4,4],\n",
    "     'Cholesterol':[4.8,5.1,6.4,6.5,2.3,5.7,4.2,6.9,4.8,4.8,7.7,5.7],\n",
    "     'Income':[2060,2660,2530,1740,3520,3750,2720,3130,2100,3340,2430,2700],\n",
    "     'Happiness':[49,36,49,28,77,55,43,39,54,29,53,47],\n",
    "     'Birthyear':[1953,1955,1939,1942,1989,1937,1979,1905,1995,1966,1938,1993]}\n",
    "\n",
    "\n",
    "\n"
   ]
  },
  {
   "cell_type": "code",
   "execution_count": null,
   "metadata": {},
   "outputs": [],
   "source": []
  },
  {
   "cell_type": "code",
   "execution_count": null,
   "metadata": {},
   "outputs": [],
   "source": []
  },
  {
   "cell_type": "code",
   "execution_count": null,
   "metadata": {},
   "outputs": [],
   "source": []
  },
  {
   "cell_type": "code",
   "execution_count": 12,
   "metadata": {},
   "outputs": [],
   "source": [
    "def printIncome(data):\n",
    "    for index, row in data.iterrows():\n",
    "        if(data['Income'].mean() > row['Income']):\n",
    "            print('person ',index , ' below average income')\n",
    "        else:\n",
    "            print('person ',index, ' above average income')\n",
    "        \n"
   ]
  },
  {
   "cell_type": "code",
   "execution_count": 13,
   "metadata": {},
   "outputs": [],
   "source": [
    "\n",
    "df2 = pd.DataFrame(d)\n",
    "res = df2.describe()\n"
   ]
  },
  {
   "cell_type": "code",
   "execution_count": 14,
   "metadata": {
    "scrolled": true
   },
   "outputs": [
    {
     "name": "stdout",
     "output_type": "stream",
     "text": [
      "    Weight  Exercise  Cholesterol  Income  Happiness  Birthyear\n",
      "0       92         6          4.8    2060         49       1953\n",
      "1       70         6          5.1    2660         36       1955\n",
      "2       58         6          6.4    2530         49       1939\n",
      "3       99         2          6.5    1740         28       1942\n",
      "4       55         8          2.3    3520         77       1989\n",
      "5       76         4          5.7    3750         55       1937\n",
      "6       62         6          4.2    2720         43       1979\n",
      "7       92         6          6.9    3130         39       1905\n",
      "8       71         5          4.8    2100         54       1995\n",
      "9       70         6          4.8    3340         29       1966\n",
      "10      77         4          7.7    2430         53       1938\n",
      "11      79         4          5.7    2700         47       1993\n",
      "\n",
      "          Weight   Exercise  Cholesterol       Income  Happiness    Birthyear\n",
      "count  12.000000  12.000000    12.000000    12.000000  12.000000    12.000000\n",
      "mean   75.083333   5.250000     5.408333  2723.333333  46.583333  1957.583333\n",
      "std    13.813421   1.544786     1.419000   614.807188  13.283334    27.566311\n",
      "min    55.000000   2.000000     2.300000  1740.000000  28.000000  1905.000000\n",
      "25%    68.000000   4.000000     4.800000  2347.500000  38.250000  1938.750000\n",
      "50%    73.500000   6.000000     5.400000  2680.000000  48.000000  1954.000000\n",
      "75%    82.250000   6.000000     6.425000  3182.500000  53.250000  1981.500000\n",
      "max    99.000000   8.000000     7.700000  3750.000000  77.000000  1995.000000\n",
      "\n",
      "person  0  below average income\n",
      "person  1  below average income\n",
      "person  2  below average income\n",
      "person  3  below average income\n",
      "person  4  above average income\n",
      "person  5  above average income\n",
      "person  6  below average income\n",
      "person  7  above average income\n",
      "person  8  below average income\n",
      "person  9  above average income\n",
      "person  10  below average income\n",
      "person  11  below average income\n"
     ]
    }
   ],
   "source": [
    "\n",
    "print(df2)\n",
    "\n",
    "print()\n",
    "print(res)\n",
    "\n",
    "print()\n",
    "printIncome(df2)"
   ]
  }
 ],
 "metadata": {
  "kernelspec": {
   "display_name": "Python 3",
   "language": "python",
   "name": "python3"
  },
  "language_info": {
   "codemirror_mode": {
    "name": "ipython",
    "version": 3
   },
   "file_extension": ".py",
   "mimetype": "text/x-python",
   "name": "python",
   "nbconvert_exporter": "python",
   "pygments_lexer": "ipython3",
   "version": "3.7.1"
  }
 },
 "nbformat": 4,
 "nbformat_minor": 2
}
